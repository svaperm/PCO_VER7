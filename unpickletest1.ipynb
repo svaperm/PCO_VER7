{
 "cells": [
  {
   "cell_type": "code",
   "execution_count": 1,
   "metadata": {},
   "outputs": [],
   "source": [
    "import pandas as pd\n",
    "import matplotlib.pyplot as plt\n",
    "import numpy as np\n",
    "import pickle"
   ]
  },
  {
   "cell_type": "code",
   "execution_count": 2,
   "metadata": {},
   "outputs": [],
   "source": [
    "path = r'C:\\Users\\Computer\\Desktop\\PCO_Model\\Dannye_nizhe_parkera (2).xlsx'\n",
    "data = pd.read_excel(path, 1)\n",
    "\n",
    "x_columns = ['Глубина, м', 'Барометрия, закачка, МПа',\n",
    "       'Термометрия, закачка, МПа', 'Термометрия, статика, МПа',\n",
    "       'Расходометрия, об/мин']\n",
    "y_columns = ['Степень сухости пара, %', 'Удельная энтальпия, кДж/кг']\n",
    "\n",
    "y_1 = ['Степень сухости пара, %']\n",
    "y_2 = ['Удельная энтальпия, кДж/кг']\n",
    "X = data[x_columns].values\n",
    "model = pickle.load(open('model1.pkl','rb'))\n",
    "y_pred=model.predict(X)"
   ]
  }
 ],
 "metadata": {
  "interpreter": {
   "hash": "0ea266fb49e16d654e13fe0042c38ca5c2f386a61cf584105053315de3903c84"
  },
  "kernelspec": {
   "display_name": "Python 3.8.10 64-bit",
   "language": "python",
   "name": "python3"
  },
  "language_info": {
   "codemirror_mode": {
    "name": "ipython",
    "version": 3
   },
   "file_extension": ".py",
   "mimetype": "text/x-python",
   "name": "python",
   "nbconvert_exporter": "python",
   "pygments_lexer": "ipython3",
   "version": "3.8.10"
  },
  "orig_nbformat": 4
 },
 "nbformat": 4,
 "nbformat_minor": 2
}
