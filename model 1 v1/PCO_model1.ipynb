{
 "cells": [
  {
   "cell_type": "code",
   "execution_count": 24,
   "metadata": {},
   "outputs": [],
   "source": [
    "import pandas as pd\n",
    "import matplotlib.pyplot as plt\n",
    "import numpy as np\n",
    "import pickle\n",
    "\n",
    "from sklearn.model_selection import train_test_split\n",
    "from sklearn.linear_model import LinearRegression\n",
    "from sklearn.metrics import mean_squared_error, r2_score, mean_absolute_error"
   ]
  },
  {
   "cell_type": "code",
   "execution_count": 25,
   "metadata": {},
   "outputs": [],
   "source": [
    "path = r'C:\\Users\\Computer\\Desktop\\PCO_Model\\Dannye_nizhe_parkera (2).xlsx'\n",
    "data = pd.read_excel(path, 1)\n",
    "\n",
    "x_columns = ['Глубина, м', 'Барометрия, закачка, МПа',\n",
    "       'Термометрия, закачка, МПа', 'Термометрия, статика, МПа',\n",
    "       'Расходометрия, об/мин']\n",
    "y_columns = ['Степень сухости пара, %', 'Удельная энтальпия, кДж/кг']\n",
    "\n",
    "y_1 = ['Степень сухости пара, %']\n",
    "y_2 = ['Удельная энтальпия, кДж/кг']"
   ]
  },
  {
   "cell_type": "code",
   "execution_count": 26,
   "metadata": {},
   "outputs": [],
   "source": [
    "def make_regression(df, x_list, y_list):\n",
    "    model_data = df.copy()\n",
    "    \n",
    "    X = model_data[x_list].values\n",
    "    y = model_data[y_list].values\n",
    "    \n",
    "    X_train, X_test, y_train, y_test = train_test_split(X, y, test_size=0.2, random_state=1)\n",
    "    \n",
    "    reg = LinearRegression()\n",
    "    reg.fit(X_train, y_train)\n",
    "    pickle.dump(reg,open('model1.pkl','wb'))\n",
    "    y_predict = reg.predict(X_test)\n",
    "    \n",
    "    mae = mean_absolute_error(y_test, y_predict)\n",
    "    mse = mean_squared_error(y_test, y_predict)\n",
    "    rmse = np.sqrt(mse)\n",
    "    r2 = r2_score(y_test, y_predict)\n",
    "    \n",
    "    print(\"Results of sklearn.metrics:\")\n",
    "    print(\"MAE:\",mae)\n",
    "    print(\"MSE:\", mse)\n",
    "    print(\"RMSE:\", rmse)\n",
    "    print(\"R-Squared:\", r2)\n",
    "    print()"
   ]
  },
  {
   "cell_type": "code",
   "execution_count": 28,
   "metadata": {},
   "outputs": [
    {
     "name": "stdout",
     "output_type": "stream",
     "text": [
      "Results of sklearn.metrics:\n",
      "MAE: 139.5848632729435\n",
      "MSE: 68483.11984883473\n",
      "RMSE: 261.69279670796203\n",
      "R-Squared: 0.7167897884850002\n",
      "\n"
     ]
    }
   ],
   "source": [
    "# Если только сухость\n",
    "##make_regression(data, x_columns, y_1)\n",
    "\n",
    "# Если только энтальпию\n",
    "##make_regression(data, x_columns, y_2)\n",
    "\n",
    "# Вместе\n",
    "make_regression(data, x_columns, y_columns)"
   ]
  },
  {
   "cell_type": "code",
   "execution_count": 5,
   "metadata": {},
   "outputs": [
    {
     "ename": "NameError",
     "evalue": "name 'a' is not defined",
     "output_type": "error",
     "traceback": [
      "\u001b[1;31m---------------------------------------------------------------------------\u001b[0m",
      "\u001b[1;31mNameError\u001b[0m                                 Traceback (most recent call last)",
      "\u001b[1;32m~\\AppData\\Local\\Temp/ipykernel_6416/628349541.py\u001b[0m in \u001b[0;36m<module>\u001b[1;34m\u001b[0m\n\u001b[1;32m----> 1\u001b[1;33m \u001b[0ma\u001b[0m\u001b[1;33m[\u001b[0m\u001b[1;33m:\u001b[0m\u001b[1;33m]\u001b[0m\u001b[1;33m[\u001b[0m\u001b[1;36m0\u001b[0m\u001b[1;33m]\u001b[0m\u001b[1;33m\u001b[0m\u001b[1;33m\u001b[0m\u001b[0m\n\u001b[0m",
      "\u001b[1;31mNameError\u001b[0m: name 'a' is not defined"
     ]
    }
   ],
   "source": []
  }
 ],
 "metadata": {
  "interpreter": {
   "hash": "0ea266fb49e16d654e13fe0042c38ca5c2f386a61cf584105053315de3903c84"
  },
  "kernelspec": {
   "display_name": "Python 3 (ipykernel)",
   "language": "python",
   "name": "python3"
  },
  "language_info": {
   "codemirror_mode": {
    "name": "ipython",
    "version": 3
   },
   "file_extension": ".py",
   "mimetype": "text/x-python",
   "name": "python",
   "nbconvert_exporter": "python",
   "pygments_lexer": "ipython3",
   "version": "3.8.10"
  }
 },
 "nbformat": 4,
 "nbformat_minor": 2
}
